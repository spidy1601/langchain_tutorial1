{
 "cells": [
  {
   "cell_type": "markdown",
   "metadata": {},
   "source": [
    "# RAG's other half, Retriever!\n",
    "1. Retriever\n",
    "2. QA ChatBot\n",
    "3. Conversational ChatBot\n",
    "---"
   ]
  },
  {
   "cell_type": "code",
   "execution_count": 1,
   "metadata": {},
   "outputs": [
    {
     "name": "stderr",
     "output_type": "stream",
     "text": [
      "USER_AGENT environment variable not set, consider setting it to identify your requests.\n"
     ]
    }
   ],
   "source": [
    "from typing import AsyncIterator, Iterator\n",
    "\n",
    "from langchain_core.document_loaders import BaseLoader\n",
    "from langchain_core.documents import Document\n",
    "\n",
    "# import streamlit as st\n",
    "import os\n",
    "from langchain_community.document_loaders import WebBaseLoader\n",
    "from langchain_groq import ChatGroq\n",
    "from langchain.embeddings import OllamaEmbeddings\n",
    "from langchain_text_splitters import RecursiveCharacterTextSplitter\n",
    "from langchain.chains.combine_documents import create_stuff_documents_chain\n",
    "from langchain_core.prompts import ChatPromptTemplate\n",
    "from langchain.chains.retrieval import create_retrieval_chain\n",
    "from langchain_community.vectorstores import FAISS\n",
    "import time\n",
    "\n",
    "from langchain.chains.query_constructor.base import AttributeInfo\n",
    "from langchain.retrievers.self_query.base import SelfQueryRetriever"
   ]
  },
  {
   "cell_type": "code",
   "execution_count": 2,
   "metadata": {},
   "outputs": [],
   "source": [
    "# Fetching Api keys that are stored in '.env'\n",
    "from dotenv import load_dotenv\n",
    "load_dotenv()\n",
    "groq_api_key=os.environ[\"GROQ_API_KEY\"]"
   ]
  },
  {
   "cell_type": "markdown",
   "metadata": {},
   "source": [
    "---\n",
    "Loading Embeddings from stored Vector DataBase\n",
    "\n",
    "---"
   ]
  },
  {
   "cell_type": "code",
   "execution_count": 3,
   "metadata": {},
   "outputs": [],
   "source": [
    "from langchain_chroma import Chroma\n",
    "embeddings = OllamaEmbeddings(model=\"mxbai-embed-large\")\n",
    "db3 = Chroma(persist_directory=\"../chroma_db copy\",embedding_function=embeddings)"
   ]
  },
  {
   "cell_type": "code",
   "execution_count": 12,
   "metadata": {},
   "outputs": [],
   "source": [
    "simple_retriever= db3.as_retriever(search_kwargs={'k': 5})"
   ]
  },
  {
   "cell_type": "code",
   "execution_count": 13,
   "metadata": {},
   "outputs": [
    {
     "data": {
      "text/plain": [
       "[Document(metadata={'source': '../data/transcriptions.json', 'topic': 'Unit1.webm'}, page_content=\"important thing that you'll have to learn to balance as well okay so for this wrapping up unit one i have a an exercise please read the three articles from the previous slide i've posted this up in discussions and write a short two hundred and fifty to five hundred word reflection on all three like you know what you think about this and this is an important time to to to think about and how i can see you bring together multiple p sources of information but also think about to me what is the the overarching strategic concept of this course which is how do we manage change which is a one way how we manage people that's why we have all these systems and that's what this course is all about i wanna be clear this is not a marked assignment but it's a really important a first opportunity for me to see your analytical and writing skills and provide support and direction for that so yeah checkout out discussions i'll soon as i've posted this this video i'll unlock or show that so that you can\"),\n",
       " Document(metadata={'source': '../data/transcriptions.json', 'topic': 'Unit1.webm'}, page_content=\"are all about that's something that i i think it's important that we focus on and acknowledge but also model in this course so thank you very much i hope that unit one was was interesting and useful for you i look forward to your feedback and your questions\"),\n",
       " Document(metadata={'source': '../data/transcriptions.json', 'topic': 'Unit 10 - Topic 3.webm'}, page_content='about progress and if it makes sense at the end thanking the person for taking the time to talk with you and having what may have been an awkward discussion is a really a great way to wrap that up and that is the end of our topic and the end of unit ten so please look forward to your questions you have for for me on any of the material in unit ten'),\n",
       " Document(metadata={'source': '../data/transcriptions.json', 'topic': 'Unit 2.1 - Topic 7 - The Triple Constraint.webm'}, page_content=\"hearing your response to what you think about this article that critiques the triple constraint so that's it for the triple constraint you know that's also it for the topics in unit two point one so of course if you have questions i really wanna hear them there's the questions discussion thread then i linked to that in the unit to content as well so please ask whatever questions you like and i look forward to seeing how you guys can support each other by answering them but also how i can support your learning and success in this course as well thanks so much\"),\n",
       " Document(metadata={'source': '../data/transcriptions.json', 'topic': 'Unit 2 - Intro & Getting Started with OOL.webm'}, page_content=\"you normally do with your cones account once you've done that you'll be able to log in and find all the resources please explore and have fun finding all the amazing stuff that's on here but for this unit we are looking for that pm ba guide and once you find it then you'll be able to start reading it and follow along and and do the reading that's required for the course as i said that little walk through video is available as a standalone video on know in the unit two course unit section there is no audio i didn't think that it was necessary thought was pretty self explanatory so i did this one for you so once again if you have any trouble just let me know okay so next we have defining projects\")]"
      ]
     },
     "execution_count": 13,
     "metadata": {},
     "output_type": "execute_result"
    }
   ],
   "source": [
    "simple_retriever.invoke(\"Summarize 'Unit 10-topic 1'\")\n",
    "                      "
   ]
  },
  {
   "cell_type": "markdown",
   "metadata": {},
   "source": [
    "---\n",
    "SelfQueryRetriever for retrieving docs based on metadata.\n",
    "\n",
    "---"
   ]
  },
  {
   "cell_type": "code",
   "execution_count": 14,
   "metadata": {},
   "outputs": [],
   "source": [
    "metadata_field_info = [\n",
    "    AttributeInfo(\n",
    "        name=\"topic\",\n",
    "        description=\"The topic of that talk which is captured in a transcription form. One of ['Unit 10 - Topic 1.webm','Unit 10 - Topic 2.webm','Unit 10 - Topic 3.webm','Unit 2 - Intro & Getting Started with OOL.webm','Unit 2.1 - Topic 1 - Defining Projects.webm','Unit 2.1 - Topic 2 - The Purpose of Projects.webm','Unit 2.1 - Topic 3 - Benefits of Project Management.webm','Unit 2.1 - Topic 4 - Project Lifecycles.webm','Unit 2.1 - Topic 5 - Project Processes & Knowledge.webm','Unit 2.1 - Topic 6 - Organizational Project Management.webm','Unit 2.1 - Topic 7 - The Triple Constraint.webm','Unit 2.2 - Ethics & Professional Conduct.webm','Unit 2.2 - The PMI Values.webm','Unit 2.2 - Topic 1 - Ethics & Professional Conduct.webm','Unit 2.2 - Topic 2 - The PMI Values.webm','Unit 2.3 - Topic 1 - Project Management Roles.webm','Unit 2.3 - Topic 2 - PM as Conductor.webm','Unit 2.3 - Topic 3 - PM Spheres of Influence.webm','Unit 2.3 - Topic 4 - PM Competencies.webm','Unit 3.1 - Topic 1 - Project Integration Management.webm','Unit 3.1 - Topic 2 - Develop Project Charter.webm','Unit 3.1 - Topic 3 - Develop PM Plan.webm','Unit 3.1 - Topic 4 - Direct and Manage Project Work.webm','Unit 3.1 - Topic 5 - Manage Project Knowledge.webm','Unit 3.1 - Topic 6 - Monitor and Control Project Work.webm','Unit 3.1 - Topic 7 - Perform Integration Change Control.webm','Unit 3.1 - Topic 8 - Closing Project or Phase.webm','Unit 3.2 - Topic 1 - Scope Management.webm','Unit 3.2 - Topic 2 - Schedule Managment.webm','Unit 3.2 - Topic 3 - Cost Management.webm','Unit 4 - Topic 1 - Project Quality Management.webm','Unit 4 - Topic 2 - Manage Quality.webm','Unit 4 - Topic 3 - Project Resource Management.webm','Unit 4 - Topic 4 - Manage Team.webm','Unit 4 - Topic 5 - Project Risk Management.webm','Unit 4 - Topic 6 - Identify Risks.webm','Unit 4 - Topic 7 - Project Communication Management.webm','Unit 4 - Topic 8 - Manage Communications.webm','Unit 4 - Topic 9 - Project Stakeholder Management.webm','Unit 5 - Topic 2 - Ethics.webm','Unit 5 - Topic 3 - Guiding Principles.webm','Unit 5- Topic 1 - Understanding SM.webm','Unit 6 - Topic 1 - SM Roles.webm','Unit 6 - Topic 2 - SM Definitions.webm','Unit 6 - Topic 3 - Service Relationship.webm','Unit 7 - 4 Dimensions of SM - Topic 3.webm','Unit 7 - 4 Dimesions of SM - Topic 1.webm','Unit 7 - 4 Dimesions of SM - Topic 4.webm','Unit 8 - Service Value - Topic 1.webm','Unit 8 - Service Value - Topic 2.webm','Unit 9 - Intro.webm','Unit 9 - Topic 1.webm','Unit 9 - Topic 2 - Part 1.webm','Unit 9 - Topic 2 - Part 2.webm','Unit 9 - Topic 3.webm','Unit1.webm','Week 1 Survey Results.webm']\",\n",
    "        type=\"string\",\n",
    "    ),\n",
    "    AttributeInfo(\n",
    "        name=\"source\",\n",
    "        description=\"This is the file name from which have extracted transcription text from.\",\n",
    "        type=\"string\",\n",
    "    ),\n",
    "]\n",
    "document_content_description = \"contains transcription of the video topics of Information Technology Operation, MGMT8680 - Spring 2020 course. \"\n",
    "\n",
    "llm = ChatGroq(groq_api_key=groq_api_key,model_name=\"mixtral-8x7b-32768\")\n",
    "\n",
    "retriever = SelfQueryRetriever.from_llm(\n",
    "    llm,\n",
    "    db3,\n",
    "    document_content_description,\n",
    "    metadata_field_info,\n",
    "    search_kwargs={\"k\": 15},\n",
    "    \n",
    ")"
   ]
  },
  {
   "cell_type": "markdown",
   "metadata": {},
   "source": [
    "---\n",
    "# 1: QA Bot retriever [no history chat context]\n",
    "---"
   ]
  },
  {
   "cell_type": "code",
   "execution_count": 15,
   "metadata": {},
   "outputs": [],
   "source": [
    "prompt = ChatPromptTemplate.from_template(\n",
    "    \"\"\"\n",
    "    Answer the questions based on the provided context only.\n",
    "    Please provide a good response based on the question and context\n",
    "    <context>\n",
    "    {context}\n",
    "    </context>\n",
    "    Questions:{input}\n",
    "\n",
    "    \"\"\"\n",
    ")\n",
    "\n",
    "document_chain = create_stuff_documents_chain(llm,prompt)\n",
    "retriever_chain = create_retrieval_chain(retriever,document_chain)"
   ]
  },
  {
   "cell_type": "code",
   "execution_count": 16,
   "metadata": {},
   "outputs": [
    {
     "name": "stdout",
     "output_type": "stream",
     "text": [
      "Unit 10 Topic 1 focuses on organizational change and the human dimension of change. Change can be scary for most people, including those in an IT organization, as it often involves new things to learn, new risks, and the fear of failure. When leading change management projects and processes, it is important to understand and acknowledge the feelings and engage with those feelings of the people going through the cycle of change. The human aspect of change is crucial in the entire unit, and it is important to remember that there is no project or service that does not require people to be successful.\n",
      "\n",
      "The cycle of change consists of denial, anger, depression, and acceptance. During the first two phases of denial and anger, information and communication are most likely to benefit the people being supported. During the depression phase, emotional support is important. It is also essential to recognize and accept that not everyone will be able to move along with every single change, and the larger the change, the more significant its impact on the organization.\n",
      "\n",
      "Emotional safety is crucial when a mistake is made during the transition of a new change. The environment for the change should be safe, supportive, and appreciative of those trying to adopt the new change, especially when they have not been successful. Celebrating success and senior leadership support are also important for a successful change project.\n",
      "--------------------------------------------------\n",
      "\n",
      "\n",
      "{'source': '../data/transcriptions.json', 'topic': 'Unit 10 - Topic 1.webm'}\n",
      "---------------------------------------------------------\n",
      "{'source': '../data/transcriptions.json', 'topic': 'Unit 10 - Topic 1.webm'}\n",
      "---------------------------------------------------------\n",
      "{'source': '../data/transcriptions.json', 'topic': 'Unit 10 - Topic 1.webm'}\n",
      "---------------------------------------------------------\n",
      "{'source': '../data/transcriptions.json', 'topic': 'Unit 10 - Topic 1.webm'}\n",
      "---------------------------------------------------------\n",
      "{'source': '../data/transcriptions.json', 'topic': 'Unit 10 - Topic 1.webm'}\n",
      "---------------------------------------------------------\n",
      "{'source': '../data/transcriptions.json', 'topic': 'Unit 10 - Topic 1.webm'}\n",
      "---------------------------------------------------------\n",
      "{'source': '../data/transcriptions.json', 'topic': 'Unit 10 - Topic 1.webm'}\n",
      "---------------------------------------------------------\n",
      "{'source': '../data/transcriptions.json', 'topic': 'Unit 10 - Topic 1.webm'}\n",
      "---------------------------------------------------------\n",
      "{'source': '../data/transcriptions.json', 'topic': 'Unit 10 - Topic 1.webm'}\n",
      "---------------------------------------------------------\n",
      "{'source': '../data/transcriptions.json', 'topic': 'Unit 10 - Topic 1.webm'}\n",
      "---------------------------------------------------------\n",
      "{'source': '../data/transcriptions.json', 'topic': 'Unit 10 - Topic 1.webm'}\n",
      "---------------------------------------------------------\n",
      "{'source': '../data/transcriptions.json', 'topic': 'Unit 10 - Topic 1.webm'}\n",
      "---------------------------------------------------------\n",
      "{'source': '../data/transcriptions.json', 'topic': 'Unit 10 - Topic 1.webm'}\n",
      "---------------------------------------------------------\n",
      "{'source': '../data/transcriptions.json', 'topic': 'Unit 10 - Topic 1.webm'}\n",
      "---------------------------------------------------------\n",
      "{'source': '../data/transcriptions.json', 'topic': 'Unit 10 - Topic 1.webm'}\n",
      "---------------------------------------------------------\n"
     ]
    }
   ],
   "source": [
    "prompt =input(\"Input your prompt here\")\n",
    "\n",
    "if prompt:\n",
    "    response = retriever_chain.invoke({\"input\":prompt})\n",
    "    print(response['answer'])\n",
    "    print(\"-\"*50,end=\"\\n\\n\\n\")\n",
    "    for i, doc in enumerate(response[\"context\"]):\n",
    "        print(doc.metadata)\n",
    "        print(\"---------------------------------------------------------\")"
   ]
  },
  {
   "cell_type": "markdown",
   "metadata": {},
   "source": [
    "---\n",
    "# 2: Conversational ChatBot retriever [History aware context]\n",
    "---"
   ]
  },
  {
   "cell_type": "code",
   "execution_count": 17,
   "metadata": {},
   "outputs": [],
   "source": [
    "from langchain.chains import create_history_aware_retriever\n",
    "from langchain_core.messages import HumanMessage, AIMessage\n",
    "\n",
    "from langchain_core.chat_history import BaseChatMessageHistory\n",
    "from langchain_community.chat_message_histories import ChatMessageHistory\n",
    "from langchain_core.prompts import ChatPromptTemplate, MessagesPlaceholder\n",
    "from langchain_core.runnables.history import RunnableWithMessageHistory"
   ]
  },
  {
   "cell_type": "code",
   "execution_count": 18,
   "metadata": {},
   "outputs": [],
   "source": [
    "### Contextualize question ###\n",
    "contextualize_q_system_prompt = \"\"\"Given a chat history and the latest user question \\\n",
    "which might reference context in the chat history, formulate a standalone question \\\n",
    "which can be understood without the chat history. Do NOT answer the question, \\\n",
    "just reformulate it if needed and otherwise return it as is.\"\"\"\n",
    "contextualize_q_prompt = ChatPromptTemplate.from_messages(\n",
    "    [\n",
    "        (\"system\", contextualize_q_system_prompt),\n",
    "        MessagesPlaceholder(\"chat_history\"),\n",
    "        (\"human\", \"{input}\"),\n",
    "    ]\n",
    ")\n",
    "history_aware_retriever = create_history_aware_retriever(\n",
    "    llm, retriever, contextualize_q_prompt\n",
    ")\n",
    "\n",
    "\n",
    "### Answer question ###\n",
    "qa_system_prompt = \"\"\"You are an assistant for question-answering tasks. \\\n",
    "Use the following pieces of retrieved context to answer the question. \\\n",
    "If you don't know the answer, just say that you don't know. \\\n",
    "Use three sentences maximum and keep the answer concise.\\\n",
    "\n",
    "{context}\"\"\"\n",
    "qa_prompt = ChatPromptTemplate.from_messages(\n",
    "    [\n",
    "        (\"system\", qa_system_prompt),\n",
    "        MessagesPlaceholder(\"chat_history\"),\n",
    "        (\"human\", \"{input}\"),\n",
    "    ]\n",
    ")\n",
    "question_answer_chain = create_stuff_documents_chain(llm, qa_prompt)\n",
    "\n",
    "rag_chain = create_retrieval_chain(history_aware_retriever, question_answer_chain)\n",
    "\n",
    "\n",
    "### Statefully manage chat history ###\n",
    "store = {}\n",
    "\n",
    "\n",
    "def get_session_history(session_id: str) -> BaseChatMessageHistory:\n",
    "    if session_id not in store:\n",
    "        store[session_id] = ChatMessageHistory()\n",
    "    return store[session_id]\n",
    "\n",
    "\n",
    "conversational_rag_chain = RunnableWithMessageHistory(\n",
    "    rag_chain,\n",
    "    get_session_history,\n",
    "    input_messages_key=\"input\",\n",
    "    history_messages_key=\"chat_history\",\n",
    "    output_messages_key=\"answer\",\n",
    ")"
   ]
  },
  {
   "cell_type": "markdown",
   "metadata": {},
   "source": [
    "---\n",
    "\n",
    "# Test the Bot!\n",
    "\n",
    "---"
   ]
  },
  {
   "cell_type": "code",
   "execution_count": 24,
   "metadata": {},
   "outputs": [],
   "source": [
    "def generate_response():\n",
    "    final_sources=[]\n",
    "    # topic_set=set()\n",
    "    # for con in response[\"context\"]:\n",
    "    #     topic_set.add(con.metadata[\"topic\"])\n",
    "\n",
    "    topic_set = {con.metadata[\"topic\"] for con in response[\"context\"]}\n",
    "\n",
    "    if len(topic_set)<=3:\n",
    "        for topic in topic_set: \n",
    "            final_sources.append(topic)\n",
    "    else:\n",
    "        final_sources = list(topic_set[:3])\n",
    "\n",
    "    print(response['answer'])\n",
    "    print(final_sources)"
   ]
  },
  {
   "cell_type": "code",
   "execution_count": 25,
   "metadata": {},
   "outputs": [
    {
     "name": "stdout",
     "output_type": "stream",
     "text": [
      "Unit 10, Topic 1, discusses managing organizational change, focusing on the integration of project management and service management practices, as well as considering the human factors of change. Change can provoke fear due to new things to learn, new risks, and the fear of failure. Effective change management involves understanding the human aspect of change, providing emotional support, acknowledging feelings, ensuring senior leadership support, and addressing negative attitudes. The goal is to bring as many people as possible along with the change, fostering a supportive environment and maintaining high morale.\n",
      "['Unit 10 - Topic 1.webm']\n"
     ]
    }
   ],
   "source": [
    "#First Set of Conversation\n",
    "\n",
    "#session_id for maintaining the Chat's history during a session\n",
    "response=conversational_rag_chain.invoke(\n",
    "    {\"input\": \"Summarize 'Unit 10 topic-1.webm'\"},\n",
    "    config={\n",
    "        \"configurable\": {\"session_id\": \"abc123\"}\n",
    "    },\n",
    ")\n",
    "generate_response()"
   ]
  },
  {
   "cell_type": "code",
   "execution_count": 26,
   "metadata": {},
   "outputs": [
    {
     "name": "stdout",
     "output_type": "stream",
     "text": [
      "Unit 10, Topic 1, covers managing organizational change by integrating project and service management practices, while considering human factors. Fear of change arises from new things to learn, risks, and failure. Effective change management includes understanding the human aspect, providing emotional support, addressing negative attitudes, and ensuring senior leadership support to bring as many people as possible along with the change.\n",
      "['Unit 10 - Topic 1.webm']\n"
     ]
    }
   ],
   "source": [
    "response=conversational_rag_chain.invoke(\n",
    "    {\"input\": \"Shorten it\"},\n",
    "    config={\"configurable\": {\"session_id\": \"abc123\"}\n",
    "    },\n",
    ")\n",
    "generate_response()"
   ]
  },
  {
   "cell_type": "code",
   "execution_count": 28,
   "metadata": {},
   "outputs": [
    {
     "data": {
      "text/plain": [
       "\"In Unit 10, the focus is on managing organizational change, specifically the integration of project management and service management practices while considering the human factors. Change can be scary due to new things to learn, new risks, and the fear of failure. When leading change management projects, it's important to understand the human dimension of change, such as providing emotional support and acknowledging feelings. Successful change brings along as many people as possible, addressing negative attitudes, and ensuring senior leadership support for a successful change project.\""
      ]
     },
     "execution_count": 28,
     "metadata": {},
     "output_type": "execute_result"
    }
   ],
   "source": [
    "## For single messages\n",
    "# session_id -> single QA[0|User_message & 1|AI_message] -> content(string)\n",
    "store['abc123'].messages[1].content"
   ]
  },
  {
   "cell_type": "code",
   "execution_count": null,
   "metadata": {},
   "outputs": [],
   "source": []
  }
 ],
 "metadata": {
  "kernelspec": {
   "display_name": ".venv",
   "language": "python",
   "name": "python3"
  },
  "language_info": {
   "codemirror_mode": {
    "name": "ipython",
    "version": 3
   },
   "file_extension": ".py",
   "mimetype": "text/x-python",
   "name": "python",
   "nbconvert_exporter": "python",
   "pygments_lexer": "ipython3",
   "version": "3.12.4"
  }
 },
 "nbformat": 4,
 "nbformat_minor": 2
}
